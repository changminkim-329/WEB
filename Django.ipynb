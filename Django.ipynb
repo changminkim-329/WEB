{
 "cells": [
  {
   "cell_type": "markdown",
   "metadata": {},
   "source": [
    "## 프레임 워크\n",
    "- 남이 만든 코드를 **체계화**하여 쉽게 사용할 수 있도록 도와주는 코드 집합.\n",
    "- 라이브러리와 혼동될 수 있지만 좀 더 규모가 크고 프로젝트의 기반이 됨.\n",
    "- 구조를 만드는 골조가 프레임워크라면 그 외 부품들이 라이브러리가 됨."
   ]
  },
  {
   "cell_type": "markdown",
   "metadata": {},
   "source": [
    "## 웹 개발\n",
    "- 웹 프레임워크\n",
    "- 데이터베이스 연동\n",
    "- URL 파싱\n",
    "- 응답/요청 프로세싱\n",
    "- 세션관리"
   ]
  },
  {
   "cell_type": "markdown",
   "metadata": {},
   "source": [
    "## Django\n",
    "\n",
    "### model\n",
    "- 모델은 데이터에 대한 단 하나의 정보의 소스. \n",
    "- 모델은 저장하고 있는 데이터의 필수적인 필드(속성)와 동작(메소드)을 포함. \n",
    "- **일반적으로, 각각의 모델은 하나의 데이터베이스 테이블에 매핑**."
   ]
  },
  {
   "cell_type": "code",
   "execution_count": null,
   "metadata": {},
   "outputs": [],
   "source": [
    "from django.db import models\n",
    "\n",
    "class Person(models.Model):\n",
    "    first_name = models.CharField(max_length=30)\n",
    "    last_name = models.CharField(max_length=30)"
   ]
  },
  {
   "cell_type": "markdown",
   "metadata": {},
   "source": [
    "**first_name** 과 **last_name**은 모델의 필드로서, 각 필드는 클래스 속성으로 지정되어 있으며, 각 속성은 각 데이터베이스의 열에 매핑됨.\n",
    "\n",
    "위의 Person 모델은 아래와 같이 데이터베이스 테이블을 생성합니다."
   ]
  },
  {
   "cell_type": "code",
   "execution_count": null,
   "metadata": {},
   "outputs": [],
   "source": [
    "CREATE TABLE myapp_person (\n",
    "    \"id\" serial NOT NULL PRIMARY KEY,\n",
    "    \"first_name\" varchar(30) NOT NULL,\n",
    "    \"last_name\" varchar(30) NOT NULL\n",
    ");"
   ]
  },
  {
   "cell_type": "code",
   "execution_count": null,
   "metadata": {},
   "outputs": [],
   "source": []
  },
  {
   "cell_type": "markdown",
   "metadata": {},
   "source": [
    "## View\n",
    "- 필요한 데이타를 모델 (혹은 외부)에서 가져와서 적절히 가공하여 웹 페이지 결과를 만들도록 컨트롤하는 역활\n",
    "- 사용자의 요청을 처리하고 결과를 반환하기 위한 로직을 캡슐화한 \"뷰\"의 개념"
   ]
  },
  {
   "cell_type": "code",
   "execution_count": null,
   "metadata": {},
   "outputs": [],
   "source": [
    "from django.http import HttpResponse\n",
    " \n",
    "def index(request):\n",
    "    return HttpResponse(\"<h1>Hello, World!</h1>\")\n"
   ]
  },
  {
   "cell_type": "code",
   "execution_count": null,
   "metadata": {},
   "outputs": [],
   "source": []
  },
  {
   "cell_type": "markdown",
   "metadata": {},
   "source": [
    "## Templete\n",
    "- 사용자에게 표시할 정보를 표현하기 위해 디자이너에게 친숙한 문법을 제공(html, css)\n"
   ]
  },
  {
   "cell_type": "code",
   "execution_count": null,
   "metadata": {},
   "outputs": [],
   "source": [
    "{% extends \"base_generic.html\" %}\n",
    "\n",
    "{% block title %}{{ section.title }}{% endblock %}\n",
    "\n",
    "{% block content %}\n",
    "<h1>{{ section.title }}</h1>\n",
    "\n",
    "{% for story in story_list %}\n",
    "<h2>\n",
    "  <a href=\"{{ story.get_absolute_url }}\">\n",
    "    {{ story.headline|upper }}\n",
    "  </a>\n",
    "</h2>\n",
    "<p>{{ story.tease|truncatewords:\"100\" }}</p>\n",
    "{% endfor %}\n",
    "{% endblock %}"
   ]
  },
  {
   "cell_type": "code",
   "execution_count": 1,
   "metadata": {},
   "outputs": [],
   "source": [
    "import numpy as np"
   ]
  },
  {
   "cell_type": "code",
   "execution_count": null,
   "metadata": {},
   "outputs": [],
   "source": [
    " "
   ]
  }
 ],
 "metadata": {
  "kernelspec": {
   "display_name": "Python 3",
   "language": "python",
   "name": "python3"
  },
  "language_info": {
   "codemirror_mode": {
    "name": "ipython",
    "version": 3
   },
   "file_extension": ".py",
   "mimetype": "text/x-python",
   "name": "python",
   "nbconvert_exporter": "python",
   "pygments_lexer": "ipython3",
   "version": "3.7.3"
  }
 },
 "nbformat": 4,
 "nbformat_minor": 2
}
